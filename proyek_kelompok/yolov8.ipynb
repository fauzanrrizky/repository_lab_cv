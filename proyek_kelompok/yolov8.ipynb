{
 "cells": [
  {
   "cell_type": "code",
   "execution_count": 2,
   "metadata": {},
   "outputs": [],
   "source": [
    "import cv2\n",
    "import torch\n",
    "from ultralytics import YOLO\n",
    "from deep_sort_realtime.deepsort_tracker import DeepSort\n",
    "import numpy as np"
   ]
  },
  {
   "cell_type": "code",
   "execution_count": 3,
   "metadata": {},
   "outputs": [
    {
     "name": "stderr",
     "output_type": "stream",
     "text": [
      "Processing Video: 100%|██████████| 1008/1008 [00:54<00:00, 18.59frame/s]\n"
     ]
    }
   ],
   "source": [
    "import cv2\n",
    "from tqdm import tqdm\n",
    "from ultralytics import YOLO\n",
    "\n",
    "# Load YOLOv8 model (pretrained or custom model)\n",
    "model = YOLO(\"yolov8n.pt\")  # Replace \"yolov8n.pt\" with your custom model if available\n",
    "\n",
    "# Input video path\n",
    "input_video_path = \"./assets/test_video/OTV1.mp4\"  # Replace with your video file path\n",
    "output_video_path = \"./output_video/inference_result.mp4\"\n",
    "\n",
    "# Load the video\n",
    "cap = cv2.VideoCapture(input_video_path)\n",
    "\n",
    "# Get video properties\n",
    "frame_count = int(cap.get(cv2.CAP_PROP_FRAME_COUNT))  # Total frames in the video\n",
    "width = int(cap.get(cv2.CAP_PROP_FRAME_WIDTH))\n",
    "height = int(cap.get(cv2.CAP_PROP_FRAME_HEIGHT))\n",
    "fps = int(cap.get(cv2.CAP_PROP_FPS))\n",
    "\n",
    "# Create a video writer to save the output\n",
    "fourcc = cv2.VideoWriter_fourcc(*\"mp4v\")\n",
    "out = cv2.VideoWriter(output_video_path, fourcc, fps, (width, height))\n",
    "\n",
    "# Initialize progress bar\n",
    "with tqdm(total=frame_count, desc=\"Processing Video\", unit=\"frame\") as pbar:\n",
    "    while cap.isOpened():\n",
    "        ret, frame = cap.read()\n",
    "        if not ret:\n",
    "            break\n",
    "\n",
    "        # Run object detection on the frame with verbose=0 to suppress internal logging\n",
    "        results = model(frame, verbose=False)\n",
    "\n",
    "        # Parse and visualize results\n",
    "        for result in results:\n",
    "            for box in result.boxes:\n",
    "                # Extract bounding box and confidence\n",
    "                x1, y1, x2, y2 = map(int, box.xyxy[0].tolist())\n",
    "                conf = box.conf[0]\n",
    "                cls = int(box.cls[0])\n",
    "                label = f\"{model.names[cls]} {conf:.2f}\"\n",
    "\n",
    "                # Draw bounding box\n",
    "                cv2.rectangle(frame, (x1, y1), (x2, y2), (0, 255, 0), 2)\n",
    "\n",
    "                # Add a filled rectangle as text background\n",
    "                text_size = cv2.getTextSize(label, cv2.FONT_HERSHEY_SIMPLEX, 0.7, 2)[0]\n",
    "                text_x, text_y = x1, y1 - 10  # Position of the text\n",
    "                box_coords = ((text_x, text_y - 5), (text_x + text_size[0] + 2, text_y + text_size[1] - 5))\n",
    "                cv2.rectangle(frame, box_coords[0], box_coords[1], (0, 255, 0), cv2.FILLED)\n",
    "\n",
    "                # Put the text on top of the filled rectangle\n",
    "                cv2.putText(\n",
    "                    frame, label, (x1, y1 - 10),\n",
    "                    cv2.FONT_HERSHEY_SIMPLEX, 0.7, (0, 0, 0), 2\n",
    "                )\n",
    "\n",
    "        # Write the frame with detections to the output video\n",
    "        out.write(frame)\n",
    "\n",
    "        # Update progress bar\n",
    "        pbar.update(1)\n",
    "\n",
    "        # (Optional) Display the frame in real-time\n",
    "        cv2.imshow(\"YOLOv8 Inference\", frame)\n",
    "        if cv2.waitKey(1) & 0xFF == ord(\"q\"):\n",
    "            break\n",
    "\n",
    "# Release resources\n",
    "cap.release()\n",
    "out.release()\n",
    "cv2.destroyAllWindows()\n"
   ]
  }
 ],
 "metadata": {
  "kernelspec": {
   "display_name": "company-matching",
   "language": "python",
   "name": "python3"
  },
  "language_info": {
   "codemirror_mode": {
    "name": "ipython",
    "version": 3
   },
   "file_extension": ".py",
   "mimetype": "text/x-python",
   "name": "python",
   "nbconvert_exporter": "python",
   "pygments_lexer": "ipython3",
   "version": "3.10.14"
  }
 },
 "nbformat": 4,
 "nbformat_minor": 2
}
