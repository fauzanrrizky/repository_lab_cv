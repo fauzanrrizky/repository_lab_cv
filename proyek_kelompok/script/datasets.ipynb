{
 "cells": [
  {
   "cell_type": "code",
   "execution_count": 1,
   "metadata": {},
   "outputs": [],
   "source": [
    "import cv2\n",
    "import os"
   ]
  },
  {
   "cell_type": "markdown",
   "metadata": {},
   "source": [
    "File ini diperuntukkan untuk mengambil screenshots dari test_video yang diberikan."
   ]
  },
  {
   "cell_type": "markdown",
   "metadata": {},
   "source": [
    "## Cari tahu FPS Video"
   ]
  },
  {
   "cell_type": "code",
   "execution_count": 8,
   "metadata": {},
   "outputs": [
    {
     "name": "stdout",
     "output_type": "stream",
     "text": [
      "FPS video: 29.768096292178853\n"
     ]
    }
   ],
   "source": [
    "# Path ke video\n",
    "video_path = \"../source/test_video/OTV1.mp4\"  # Ganti dengan path ke video Anda\n",
    "\n",
    "# Buka video dengan OpenCV\n",
    "cap = cv2.VideoCapture(video_path)\n",
    "\n",
    "# Periksa apakah video berhasil dibuka\n",
    "if not cap.isOpened():\n",
    "    print(\"Gagal membuka video.\")\n",
    "else:\n",
    "    # Dapatkan FPS video\n",
    "    fps = cap.get(cv2.CAP_PROP_FPS)\n",
    "    print(f\"FPS video: {fps}\")\n",
    "\n",
    "# Tutup video\n",
    "cap.release()\n"
   ]
  },
  {
   "cell_type": "markdown",
   "metadata": {},
   "source": [
    "Kami akan mengambil interval pada 500 ms\n",
    "\n",
    "Mengapa?\n",
    "Pada 30 FPS, setiap frame setara dengan:\n",
    "1 detik = 30 frame → 1 frame = 33 ms.\n",
    "Interval 500 ms setara dengan mengambil frame setiap 115 frame\n",
    "\n",
    "Interval ini memastikan bahwa dataset:\n",
    "Tidak terlalu padat (mengambil semua frame).\n",
    "Tidak terlalu renggang (kehilangan informasi penting)."
   ]
  },
  {
   "cell_type": "markdown",
   "metadata": {},
   "source": [
    "## Generate screenshots"
   ]
  },
  {
   "cell_type": "code",
   "execution_count": null,
   "metadata": {},
   "outputs": [
    {
     "name": "stdout",
     "output_type": "stream",
     "text": [
      "Proses selesai. Total 373 gambar disimpan di ../dataset/images.\n"
     ]
    }
   ],
   "source": [
    "# Path ke folder video\n",
    "video_folder = \"../source/test_video\"\n",
    "output_folder = \"../dataset/images_raw\"\n",
    "\n",
    "# Pastikan folder output ada\n",
    "os.makedirs(output_folder, exist_ok=True)\n",
    "\n",
    "# Ambil daftar semua video dalam folder\n",
    "video_files = [f for f in os.listdir(video_folder) if f.endswith('.mp4')]\n",
    "\n",
    "# Inisialisasi penomoran gambar\n",
    "image_count = 0\n",
    "\n",
    "# Proses setiap video dalam folder\n",
    "for video_file in video_files:\n",
    "    video_path = os.path.join(video_folder, video_file)\n",
    "    \n",
    "    # Buka video\n",
    "    cap = cv2.VideoCapture(video_path)\n",
    "    fps = int(cap.get(cv2.CAP_PROP_FPS))  # Frame rate video\n",
    "    frame_interval = int(fps * 0.5)  # Ambil frame setiap 0.5 detik (1 gambar setiap 15 frame)\n",
    "\n",
    "    frame_count = 0\n",
    "\n",
    "    while cap.isOpened():\n",
    "        ret, frame = cap.read()\n",
    "        if not ret:\n",
    "            break\n",
    "\n",
    "        # Ambil frame berdasarkan interval\n",
    "        if frame_count % frame_interval == 0:\n",
    "            output_path = os.path.join(output_folder, f\"image_{image_count:04d}.jpg\")\n",
    "            cv2.imwrite(output_path, frame)\n",
    "            image_count += 1\n",
    "\n",
    "        frame_count += 1\n",
    "\n",
    "    cap.release()\n",
    "\n",
    "print(f\"Proses selesai. Total {image_count} gambar disimpan di {output_folder}.\")\n"
   ]
  },
  {
   "cell_type": "markdown",
   "metadata": {},
   "source": [
    "## Cleaning Label Files\n",
    "Ada kesalahan dalam anotasi data, jadi perlu dibersihkan (mengganti nilai label)"
   ]
  },
  {
   "cell_type": "code",
   "execution_count": 2,
   "metadata": {},
   "outputs": [
    {
     "name": "stdout",
     "output_type": "stream",
     "text": [
      "Semua file label telah diperbaiki.\n"
     ]
    }
   ],
   "source": [
    "import os\n",
    "\n",
    "# Path ke folder label\n",
    "labels_dir = \"../dataset/labels/raw\"  # Ganti sesuai path Anda\n",
    "\n",
    "# Buat mapping angka lama ke angka baru\n",
    "mapping = {\n",
    "    \"15\": \"0\", \"16\": \"1\", \"17\": \"2\", \"18\": \"3\", \"19\": \"4\",\n",
    "    \"20\": \"5\", \"21\": \"6\", \"22\": \"7\", \"23\": \"8\", \"24\": \"9\", \"25\": \"10\"\n",
    "}\n",
    "\n",
    "# Periksa dan perbaiki semua file label\n",
    "for label_file in os.listdir(labels_dir):\n",
    "    if label_file.endswith(\".txt\"):  # Hanya file .txt\n",
    "        label_path = os.path.join(labels_dir, label_file)\n",
    "        with open(label_path, \"r\") as f:\n",
    "            lines = f.readlines()\n",
    "\n",
    "        # Ganti angka sesuai mapping\n",
    "        fixed_lines = []\n",
    "        for line in lines:\n",
    "            parts = line.strip().split()\n",
    "            if len(parts) > 0 and parts[0] in mapping:  # Ganti hanya jika angka ada dalam mapping\n",
    "                parts[0] = mapping[parts[0]]\n",
    "            fixed_lines.append(\" \".join(parts) + \"\\n\")\n",
    "\n",
    "        # Tulis ulang file label\n",
    "        with open(label_path, \"w\") as f:\n",
    "            f.writelines(fixed_lines)\n",
    "\n",
    "print(\"Semua file label telah diperbaiki.\")\n"
   ]
  },
  {
   "cell_type": "markdown",
   "metadata": {},
   "source": [
    "## Membagi Dataset"
   ]
  },
  {
   "cell_type": "code",
   "execution_count": 2,
   "metadata": {},
   "outputs": [
    {
     "name": "stdout",
     "output_type": "stream",
     "text": [
      "Dataset berhasil dibagi ke folder train dan val.\n"
     ]
    }
   ],
   "source": [
    "import os\n",
    "import random\n",
    "import shutil\n",
    "\n",
    "# Path ke folder\n",
    "images_path = \"../dataset/images_raw\"\n",
    "labels_path = \"../dataset/labels/raw\"\n",
    "output_images_train = \"../dataset/images/train\"\n",
    "output_images_val = \"../dataset/images/val\"\n",
    "output_labels_train = \"../dataset/labels/train\"\n",
    "output_labels_val = \"../dataset/labels/val\"\n",
    "\n",
    "\n",
    "# Buat folder output jika belum ada\n",
    "os.makedirs(output_images_train, exist_ok=True)\n",
    "os.makedirs(output_images_val, exist_ok=True)\n",
    "os.makedirs(output_labels_train, exist_ok=True)\n",
    "os.makedirs(output_labels_val, exist_ok=True)\n",
    "\n",
    "# Ambil semua file gambar\n",
    "image_files = [f for f in os.listdir(images_path) if f.endswith(\".jpg\")]\n",
    "\n",
    "# Acak urutan file untuk pembagian\n",
    "random.shuffle(image_files)\n",
    "\n",
    "# Bagi dataset (80% train, 20% val)\n",
    "split_ratio = 0.8\n",
    "split_index = int(len(image_files) * split_ratio)\n",
    "\n",
    "train_files = image_files[:split_index]\n",
    "val_files = image_files[split_index:]\n",
    "\n",
    "# Pindahkan file ke folder train/val\n",
    "for file in train_files:\n",
    "    shutil.copy(os.path.join(images_path, file), os.path.join(output_images_train, file))\n",
    "    label_file = file.replace(\".jpg\", \".txt\")\n",
    "    if os.path.exists(os.path.join(labels_path, label_file)):\n",
    "        shutil.copy(os.path.join(labels_path, label_file), os.path.join(output_labels_train, label_file))\n",
    "\n",
    "for file in val_files:\n",
    "    shutil.copy(os.path.join(images_path, file), os.path.join(output_images_val, file))\n",
    "    label_file = file.replace(\".jpg\", \".txt\")\n",
    "    if os.path.exists(os.path.join(labels_path, label_file)):\n",
    "        shutil.copy(os.path.join(labels_path, label_file), os.path.join(output_labels_val, label_file))\n",
    "\n",
    "print(\"Dataset berhasil dibagi ke folder train dan val.\")"
   ]
  },
  {
   "cell_type": "markdown",
   "metadata": {},
   "source": [
    "## Revisi Minor\n",
    "untuk file 249 ke atas, label 0 dan 1 ketuker."
   ]
  },
  {
   "cell_type": "code",
   "execution_count": 1,
   "metadata": {},
   "outputs": [
    {
     "name": "stdout",
     "output_type": "stream",
     "text": [
      "Semua file label dari image_0249 ke atas telah diperbaiki.\n"
     ]
    }
   ],
   "source": [
    "import os\n",
    "\n",
    "# Path ke folder label\n",
    "labels_dir = \"../dataset/labels/raw\"  # Ganti sesuai path Anda\n",
    "\n",
    "# Buat mapping angka lama ke angka baru\n",
    "mapping = {\n",
    "    \"0\": \"1\",\n",
    "    \"1\": \"0\"\n",
    "}\n",
    "\n",
    "# Periksa dan perbaiki semua file label\n",
    "for label_file in os.listdir(labels_dir):\n",
    "    if label_file.endswith(\".txt\") and label_file >= \"image_0249.txt\":  # Filter file >= image_0249\n",
    "        label_path = os.path.join(labels_dir, label_file)\n",
    "        with open(label_path, \"r\") as f:\n",
    "            lines = f.readlines()\n",
    "\n",
    "        # Ganti angka sesuai mapping\n",
    "        fixed_lines = []\n",
    "        for line in lines:\n",
    "            parts = line.strip().split()\n",
    "            if len(parts) > 0 and parts[0] in mapping:  # Ganti hanya jika angka ada dalam mapping\n",
    "                parts[0] = mapping[parts[0]]\n",
    "            fixed_lines.append(\" \".join(parts) + \"\\n\")\n",
    "\n",
    "        # Tulis ulang file label\n",
    "        with open(label_path, \"w\") as f:\n",
    "            f.writelines(fixed_lines)\n",
    "\n",
    "print(\"Semua file label dari image_0249 ke atas telah diperbaiki.\")\n"
   ]
  }
 ],
 "metadata": {
  "kernelspec": {
   "display_name": "company-matching",
   "language": "python",
   "name": "python3"
  },
  "language_info": {
   "codemirror_mode": {
    "name": "ipython",
    "version": 3
   },
   "file_extension": ".py",
   "mimetype": "text/x-python",
   "name": "python",
   "nbconvert_exporter": "python",
   "pygments_lexer": "ipython3",
   "version": "3.10.14"
  }
 },
 "nbformat": 4,
 "nbformat_minor": 2
}
